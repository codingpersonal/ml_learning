{
 "cells": [
  {
   "cell_type": "code",
   "execution_count": 65,
   "metadata": {
    "scrolled": true
   },
   "outputs": [],
   "source": [
    "# kaggle id: https://www.kaggle.com/ramamet4/app-store-apple-data-set-10k-apps/home\n",
    "\n",
    "import matplotlib as mlp\n",
    "import pandas as pd\n"
   ]
  },
  {
   "cell_type": "code",
   "execution_count": 28,
   "metadata": {},
   "outputs": [],
   "source": [
    "df = pd.read_csv(\"AppleStore.csv\", header=0)"
   ]
  },
  {
   "cell_type": "markdown",
   "metadata": {},
   "source": [
    "## Ratings distribution"
   ]
  },
  {
   "cell_type": "code",
   "execution_count": 36,
   "metadata": {
    "scrolled": true
   },
   "outputs": [
    {
     "name": "stdout",
     "output_type": "stream",
     "text": [
      "Index(['Unnamed: 0', 'id', 'track_name', 'size_bytes', 'currency', 'price',\n",
      "       'rating_count_tot', 'rating_count_ver', 'user_rating',\n",
      "       'user_rating_ver', 'ver', 'cont_rating', 'prime_genre',\n",
      "       'sup_devices.num', 'ipadSc_urls.num', 'lang.num', 'vpp_lic'],\n",
      "      dtype='object')\n"
     ]
    }
   ],
   "source": [
    "print (df.columns)\n"
   ]
  },
  {
   "cell_type": "code",
   "execution_count": 49,
   "metadata": {},
   "outputs": [
    {
     "name": "stdout",
     "output_type": "stream",
     "text": [
      "199.134453825066\n",
      "359.20691353870336\n",
      "0.589824\n",
      "4025.969664\n"
     ]
    }
   ],
   "source": [
    "# stats around app size\n",
    "one_mb = 1000000\n",
    "\n",
    "print(df['size_bytes'].mean()/one_mb)\n",
    "print(df['size_bytes'].std()/one_mb)\n",
    "print(df['size_bytes'].min()/one_mb)\n",
    "print(df['size_bytes'].max()/one_mb)\n"
   ]
  },
  {
   "cell_type": "code",
   "execution_count": 51,
   "metadata": {
    "scrolled": true
   },
   "outputs": [
    {
     "name": "stdout",
     "output_type": "stream",
     "text": [
      "hello\n"
     ]
    }
   ],
   "source": [
    "df.corr()\n"
   ]
  },
  {
   "cell_type": "markdown",
   "metadata": {
    "collapsed": true
   },
   "source": [
    "## stats about the genre of apps"
   ]
  },
  {
   "cell_type": "code",
   "execution_count": 105,
   "metadata": {
    "scrolled": false
   },
   "outputs": [
    {
     "name": "stdout",
     "output_type": "stream",
     "text": [
      "prime_genre\n",
      "Book                 41.071429\n",
      "Business             64.912281\n",
      "Catalogs             10.000000\n",
      "Education            70.860927\n",
      "Entertainment        37.570093\n",
      "Finance              19.230769\n",
      "Food & Drink         31.746032\n",
      "Games                41.558778\n",
      "Health & Fitness     57.777778\n",
      "Lifestyle            34.722222\n",
      "Medical              65.217391\n",
      "Music                51.449275\n",
      "Navigation           56.521739\n",
      "News                 22.666667\n",
      "Photo & Video        52.148997\n",
      "Productivity         65.168539\n",
      "Reference            68.750000\n",
      "Shopping              0.819672\n",
      "Social Networking    14.371257\n",
      "Sports               30.701754\n",
      "Travel               30.864198\n",
      "Utilities            56.048387\n",
      "Weather              56.944444\n",
      "Name: price, dtype: float64\n"
     ]
    }
   ],
   "source": [
    "# percentage of free apps in every genre\n",
    "\n",
    "aa = df[df[\"price\"] > 0].groupby([\"prime_genre\"])[\"price\"].count()\n",
    "bb = df.groupby([\"prime_genre\"])[\"price\"].count()\n",
    "print(aa/bb*100)\n",
    "# print(\"count per non-free genre is :\", bb)\n",
    "#df.groupby([\"prime_genre\"])[df[\"price\"] > 0, \"price\"].count()\n",
    "\n",
    "#df.groupby([\"prime_genre\"], group_keys=False)[\"price\"].plot()\n"
   ]
  },
  {
   "cell_type": "code",
   "execution_count": 64,
   "metadata": {},
   "outputs": [
    {
     "data": {
      "text/plain": [
       "<matplotlib.axes._subplots.AxesSubplot at 0x110458550>"
      ]
     },
     "execution_count": 64,
     "metadata": {},
     "output_type": "execute_result"
    }
   ],
   "source": [
    "df[\"size_bytes\"].plot()"
   ]
  },
  {
   "cell_type": "code",
   "execution_count": 84,
   "metadata": {
    "collapsed": true
   },
   "outputs": [
    {
     "data": {
      "text/plain": [
       "prime_genre\n",
       "Book                  112\n",
       "Business               57\n",
       "Catalogs               10\n",
       "Education             453\n",
       "Entertainment         535\n",
       "Finance               104\n",
       "Food & Drink           63\n",
       "Games                3862\n",
       "Health & Fitness      180\n",
       "Lifestyle             144\n",
       "Medical                23\n",
       "Music                 138\n",
       "Navigation             46\n",
       "News                   75\n",
       "Photo & Video         349\n",
       "Productivity          178\n",
       "Reference              64\n",
       "Shopping              122\n",
       "Social Networking     167\n",
       "Sports                114\n",
       "Travel                 81\n",
       "Utilities             248\n",
       "Weather                72\n",
       "Name: price, dtype: int64"
      ]
     },
     "execution_count": 84,
     "metadata": {},
     "output_type": "execute_result"
    }
   ],
   "source": [
    "df.groupby([\"prime_genre\"])[\"price\"].count()"
   ]
  },
  {
   "cell_type": "code",
   "execution_count": null,
   "metadata": {
    "collapsed": true
   },
   "outputs": [],
   "source": []
  }
 ],
 "metadata": {
  "kernelspec": {
   "display_name": "Python 3",
   "language": "python",
   "name": "python3"
  },
  "language_info": {
   "codemirror_mode": {
    "name": "ipython",
    "version": 3
   },
   "file_extension": ".py",
   "mimetype": "text/x-python",
   "name": "python",
   "nbconvert_exporter": "python",
   "pygments_lexer": "ipython3",
   "version": "3.6.3"
  }
 },
 "nbformat": 4,
 "nbformat_minor": 2
}

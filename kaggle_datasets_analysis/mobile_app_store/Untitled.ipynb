{
 "cells": [
  {
   "cell_type": "code",
   "execution_count": 9,
   "metadata": {},
   "outputs": [
    {
     "name": "stdout",
     "output_type": "stream",
     "text": [
      "hello world\n",
      "Object `pd.readcsv` not found.\n"
     ]
    }
   ],
   "source": [
    "# kaggle id: https://www.kaggle.com/ramamet4/app-store-apple-data-set-10k-apps/home\n",
    "\n",
    "import matplotlib as mlp\n",
    "import pandas as pd\n",
    "\n",
    "print(\"hello world\")\n",
    "\n"
   ]
  },
  {
   "cell_type": "code",
   "execution_count": 28,
   "metadata": {},
   "outputs": [],
   "source": [
    "df = pd.read_csv(\"AppleStore.csv\", header=0)"
   ]
  },
  {
   "cell_type": "markdown",
   "metadata": {},
   "source": [
    "## Ratings distribution"
   ]
  },
  {
   "cell_type": "code",
   "execution_count": 29,
   "metadata": {},
   "outputs": [
    {
     "name": "stdout",
     "output_type": "stream",
     "text": [
      "   Unnamed: 0         id                                         track_name  \\\n",
      "0           1  281656475                                    PAC-MAN Premium   \n",
      "1           2  281796108                          Evernote - stay organized   \n",
      "2           3  281940292    WeatherBug - Local Weather, Radar, Maps, Alerts   \n",
      "3           4  282614216  eBay: Best App to Buy, Sell, Save! Online Shop...   \n",
      "4           5  282935706                                              Bible   \n",
      "5           6  283619399                                   Shanghai Mahjong   \n",
      "6           7  283646709             PayPal - Send and request money safely   \n",
      "7           8  284035177                            Pandora - Music & Radio   \n",
      "8           9  284666222                        PCalc - The Best Calculator   \n",
      "9          10  284736660                                        Ms. PAC-MAN   \n",
      "\n",
      "   size_bytes currency  price  rating_count_tot  rating_count_ver  \\\n",
      "0   100788224      USD   3.99             21292                26   \n",
      "1   158578688      USD   0.00            161065                26   \n",
      "2   100524032      USD   0.00            188583              2822   \n",
      "3   128512000      USD   0.00            262241               649   \n",
      "4    92774400      USD   0.00            985920              5320   \n",
      "5    10485713      USD   0.99              8253              5516   \n",
      "6   227795968      USD   0.00            119487               879   \n",
      "7   130242560      USD   0.00           1126879              3594   \n",
      "8    49250304      USD   9.99              1117                 4   \n",
      "9    70023168      USD   3.99              7885                40   \n",
      "\n",
      "   user_rating  user_rating_ver     ver cont_rating   prime_genre  \\\n",
      "0          4.0              4.5   6.3.5          4+         Games   \n",
      "1          4.0              3.5   8.2.2          4+  Productivity   \n",
      "2          3.5              4.5   5.0.0          4+       Weather   \n",
      "3          4.0              4.5  5.10.0         12+      Shopping   \n",
      "4          4.5              5.0   7.5.1          4+     Reference   \n",
      "5          4.0              4.0     1.8          4+         Games   \n",
      "6          4.0              4.5  6.12.0          4+       Finance   \n",
      "7          4.0              4.5   8.4.1         12+         Music   \n",
      "8          4.5              5.0   3.6.6          4+     Utilities   \n",
      "9          4.0              4.0   4.0.4          4+         Games   \n",
      "\n",
      "   sup_devices.num  ipadSc_urls.num  lang.num  vpp_lic  \n",
      "0               38                5        10        1  \n",
      "1               37                5        23        1  \n",
      "2               37                5         3        1  \n",
      "3               37                5         9        1  \n",
      "4               37                5        45        1  \n",
      "5               47                5         1        1  \n",
      "6               37                0        19        1  \n",
      "7               37                4         1        1  \n",
      "8               37                5         1        1  \n",
      "9               38                0        10        1  \n"
     ]
    }
   ],
   "source": [
    "print (df.head(10))"
   ]
  },
  {
   "cell_type": "code",
   "execution_count": null,
   "metadata": {
    "collapsed": true
   },
   "outputs": [],
   "source": []
  }
 ],
 "metadata": {
  "kernelspec": {
   "display_name": "Python 3",
   "language": "python",
   "name": "python3"
  },
  "language_info": {
   "codemirror_mode": {
    "name": "ipython",
    "version": 3
   },
   "file_extension": ".py",
   "mimetype": "text/x-python",
   "name": "python",
   "nbconvert_exporter": "python",
   "pygments_lexer": "ipython3",
   "version": "3.6.3"
  }
 },
 "nbformat": 4,
 "nbformat_minor": 2
}
